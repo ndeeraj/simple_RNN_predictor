{
 "cells": [
  {
   "cell_type": "code",
   "execution_count": 1,
   "id": "182eb1be",
   "metadata": {},
   "outputs": [],
   "source": [
    "import os\n",
    "import pathlib\n",
    "from sklearn import preprocessing\n",
    "from pandas import read_csv\n",
    "from sklearn.model_selection import train_test_split\n",
    "import calendar"
   ]
  },
  {
   "cell_type": "code",
   "execution_count": 2,
   "id": "d48f2318",
   "metadata": {},
   "outputs": [
    {
     "name": "stdout",
     "output_type": "stream",
     "text": [
      "Number of days is <class 'int'>\n"
     ]
    }
   ],
   "source": [
    "month = 2   # February\n",
    "year = 2020\n",
    " \n",
    "num_days = calendar.monthrange(year, month)[1]\n",
    " \n",
    "print(\"Number of days is\",type(num_days)) "
   ]
  },
  {
   "cell_type": "code",
   "execution_count": 3,
   "id": "b74e2390",
   "metadata": {},
   "outputs": [],
   "source": [
    "project_root = pathlib.Path().resolve()\n",
    "dataDir = 'data'\n",
    "dataFile = 'data_daily.csv'\n",
    "path_to_file = os.path.join(project_root, dataDir, dataFile)\n",
    "data_df = read_csv(path_to_file)"
   ]
  },
  {
   "cell_type": "code",
   "execution_count": 4,
   "id": "e607e65b",
   "metadata": {},
   "outputs": [],
   "source": [
    "split_factor = 0.1\n",
    "split_index_test = round(split_factor * len(data_df))\n",
    "\n",
    "test_df = data_df.iloc[:split_index_test]\n",
    "\n",
    "split_index_val = 2 * split_index_test\n",
    "val_df = data_df.iloc[split_index_test:split_index_val]\n",
    "\n",
    "train_df = data_df.iloc[split_index_val:]"
   ]
  },
  {
   "cell_type": "code",
   "execution_count": 5,
   "id": "95943922",
   "metadata": {},
   "outputs": [
    {
     "name": "stdout",
     "output_type": "stream",
     "text": [
      "(36, 2)\n",
      "(36, 2)\n",
      "(293, 2)\n"
     ]
    }
   ],
   "source": [
    "print(test_df.shape)\n",
    "print(val_df.shape)\n",
    "print(train_df.shape)"
   ]
  },
  {
   "cell_type": "code",
   "execution_count": 6,
   "id": "3a37a1e3",
   "metadata": {},
   "outputs": [
    {
     "name": "stdout",
     "output_type": "stream",
     "text": [
      "        # Date  Receipt_Count\n",
      "0   2021-01-01        7564766\n",
      "1   2021-01-02        7455524\n",
      "2   2021-01-03        7095414\n",
      "3   2021-01-04        7666163\n",
      "4   2021-01-05        7771289\n",
      "5   2021-01-06        7473320\n",
      "6   2021-01-07        7832624\n",
      "7   2021-01-08        7765028\n",
      "8   2021-01-09        7385245\n",
      "9   2021-01-10        7392087\n",
      "10  2021-01-11        7738899\n",
      "11  2021-01-12        7840830\n",
      "12  2021-01-13        8122546\n",
      "13  2021-01-14        7694195\n",
      "14  2021-01-15        7200595\n",
      "15  2021-01-16        7744470\n",
      "16  2021-01-17        7610648\n",
      "17  2021-01-18        7880913\n",
      "18  2021-01-19        7250032\n",
      "19  2021-01-20        7666397\n",
      "20  2021-01-21        7742477\n",
      "21  2021-01-22        7807438\n",
      "22  2021-01-23        7603625\n",
      "23  2021-01-24        7572947\n",
      "24  2021-01-25        7598153\n",
      "25  2021-01-26        7194687\n",
      "26  2021-01-27        7787109\n",
      "27  2021-01-28        7631075\n",
      "28  2021-01-29        7750536\n",
      "29  2021-01-30        8059526\n",
      "30  2021-01-31        7838129\n",
      "31  2021-02-01        7714465\n",
      "32  2021-02-02        7766408\n",
      "33  2021-02-03        7832259\n",
      "34  2021-02-04        7506461\n",
      "35  2021-02-05        7816477\n",
      "        # Date  Receipt_Count\n",
      "36  2021-02-06        7360372\n",
      "37  2021-02-07        8039414\n",
      "38  2021-02-08        7858632\n",
      "39  2021-02-09        7810951\n",
      "40  2021-02-10        7579882\n",
      "41  2021-02-11        8127696\n",
      "42  2021-02-12        7748085\n",
      "43  2021-02-13        8117805\n",
      "44  2021-02-14        7780006\n",
      "45  2021-02-15        7916028\n",
      "46  2021-02-16        7736671\n",
      "47  2021-02-17        8082781\n",
      "48  2021-02-18        7824063\n",
      "49  2021-02-19        7761256\n",
      "50  2021-02-20        7821879\n",
      "51  2021-02-21        7760399\n",
      "52  2021-02-22        8330147\n",
      "53  2021-02-23        8053953\n",
      "54  2021-02-24        7816117\n",
      "55  2021-02-25        8156649\n",
      "56  2021-02-26        7857443\n",
      "57  2021-02-27        7881212\n",
      "58  2021-02-28        7975949\n",
      "59  2021-03-01        7970632\n",
      "60  2021-03-02        7998865\n",
      "61  2021-03-03        7748662\n",
      "62  2021-03-04        8080043\n",
      "63  2021-03-05        7971011\n",
      "64  2021-03-06        8309959\n",
      "65  2021-03-07        7945271\n",
      "66  2021-03-08        8352635\n",
      "67  2021-03-09        7861647\n",
      "68  2021-03-10        7920726\n",
      "69  2021-03-11        7921232\n",
      "70  2021-03-12        8142874\n",
      "71  2021-03-13        7731725\n",
      "        # Date  Receipt_Count\n",
      "72  2021-03-14        8070687\n",
      "73  2021-03-15        7825047\n",
      "74  2021-03-16        7920469\n",
      "75  2021-03-17        7946897\n",
      "76  2021-03-18        8090998\n",
      "77  2021-03-19        8415152\n",
      "78  2021-03-20        8325436\n",
      "79  2021-03-21        8105278\n",
      "80  2021-03-22        7562433\n",
      "81  2021-03-23        8096085\n",
      "82  2021-03-24        8034268\n",
      "83  2021-03-25        8050876\n",
      "84  2021-03-26        8077321\n",
      "85  2021-03-27        7999117\n",
      "86  2021-03-28        8082481\n",
      "87  2021-03-29        8126444\n",
      "88  2021-03-30        7911341\n",
      "89  2021-03-31        8013013\n",
      "90  2021-04-01        8353242\n",
      "91  2021-04-02        8042185\n"
     ]
    }
   ],
   "source": [
    "print(test_df)\n",
    "print(val_df)\n",
    "print(train_df.head(20))"
   ]
  },
  {
   "cell_type": "code",
   "execution_count": 7,
   "id": "59a57b19",
   "metadata": {},
   "outputs": [
    {
     "name": "stdout",
     "output_type": "stream",
     "text": [
      "[[10124238  9464659  9703857 10045897 10738865 10350408 10219445 10313337\n",
      "  10310644 10211187]]\n"
     ]
    }
   ],
   "source": [
    "import numpy as np\n",
    "\n",
    "X = np.array([train_df[-10:][\"Receipt_Count\"]])\n",
    "print(X)\n"
   ]
  },
  {
   "cell_type": "code",
   "execution_count": 8,
   "id": "15081067",
   "metadata": {},
   "outputs": [
    {
     "name": "stdout",
     "output_type": "stream",
     "text": [
      "\n",
      "Number of samples: 293\n",
      "Max receipt count: 10738865.0\n",
      "Min receipt count: 7562433.0\n",
      "\n",
      "Number of samples: 36\n",
      "Max receipt count: 8352635.0\n",
      "Min receipt count: 7360372.0\n",
      "\n",
      "Number of samples: 36\n",
      "Max receipt count: 8122546.0\n",
      "Min receipt count: 7095414.0\n"
     ]
    },
    {
     "data": {
      "text/plain": [
       "{'2023-1-1': 10105980.522963865,\n",
       " '2023-1-2': 10104386.133214608,\n",
       " '2023-1-3': 10101861.743461696,\n",
       " '2023-1-4': 10099474.688539166,\n",
       " '2023-1-5': 10094250.294608371,\n",
       " '2023-1-6': 10091845.161534736,\n",
       " '2023-1-7': 10088207.164555404,\n",
       " '2023-1-8': 10087183.138327386,\n",
       " '2023-1-9': 10085519.038225468,\n",
       " '2023-1-10': 10083238.983666737,\n",
       " '2023-1-11': 10079580.981181081,\n",
       " '2023-1-12': 10077176.314535962,\n",
       " '2023-1-13': 10075392.343873069,\n",
       " '2023-1-14': 10073499.40989842,\n",
       " '2023-1-15': 10071750.66308742,\n",
       " '2023-1-16': 10070439.191212907,\n",
       " '2023-1-17': 10069587.851300208,\n",
       " '2023-1-18': 10068818.159837112,\n",
       " '2023-1-19': 10068134.665568687,\n",
       " '2023-1-20': 10067531.266169824,\n",
       " '2023-1-21': 10067010.721805412,\n",
       " '2023-1-22': 10066554.646161,\n",
       " '2023-1-23': 10066160.656097643,\n",
       " '2023-1-24': 10065812.524484335,\n",
       " '2023-1-25': 10065507.10820697,\n",
       " '2023-1-26': 10065241.505939363,\n",
       " '2023-1-27': 10065016.249538697,\n",
       " '2023-1-28': 10064822.580447782,\n",
       " '2023-1-29': 10064655.027665362,\n",
       " '2023-1-30': 10064511.352940017,\n",
       " '2023-1-31': 10064388.668585006}"
      ]
     },
     "execution_count": 8,
     "metadata": {},
     "output_type": "execute_result"
    },
    {
     "data": {
      "image/png": "[encoded data removed]",
      "text/plain": [
       "<Figure size 432x288 with 1 Axes>"
      ]
     },
     "metadata": {
      "needs_background": "light"
     },
     "output_type": "display_data"
    }
   ],
   "source": [
    "from lstmregr import LSTM\n",
    "import torch\n",
    "\n",
    "\n",
    "model_new = LSTM(num_layers=2, hidden_layer_size=16)\n",
    "model_new.to(dtype=torch.double)\n",
    "model_new.load_state_dict(torch.load('weights_only_2_16_15.pth'))\n",
    "model_new.load_data(path_to_file)\n",
    "    #print(\"\\nTesting on the best model...\")\n",
    "    #print(\"\\nloss for train dataset:\")\n",
    "    #result = evaluate_model(train_dtst, model_new, num_layer)\n",
    "    #print(f\"{result['loss']:>7f}\")\n",
    "    #print(\"\\nloss for validation dataset:\")\n",
    "    #result = model_new.evaluate_model(validation=True)\n",
    "    #print(f\"{result['loss']:>7f}\")\n",
    "    #print(\"\\nloss for test dataset:\")\n",
    "    #result = model_new.evaluate_model()\n",
    "    #print(f\"{result['loss']:>7f}\")\n",
    "    #print(\"Done!\")\n",
    "\n",
    "model_new.predict_for_month()"
   ]
  },
  {
   "cell_type": "code",
   "execution_count": 9,
   "id": "2a79eb47",
   "metadata": {},
   "outputs": [
    {
     "name": "stdout",
     "output_type": "stream",
     "text": [
      "<class 'int'>\n",
      "<class 'datetime.date'>\n"
     ]
    }
   ],
   "source": [
    "from datetime import date\n",
    "from datetime import timedelta \n",
    "\n",
    "# Driver program\n",
    "date1 = date(2022, 12, 31)\n",
    "date2 = date(2023, 2, 1)\n",
    "print(type((date2 - date1).days))\n",
    "print(type(date1 + timedelta(days=300)))"
   ]
  },
  {
   "cell_type": "code",
   "execution_count": 10,
   "id": "09fef112",
   "metadata": {},
   "outputs": [
    {
     "data": {
      "text/plain": [
       "{'2023-1-1': 10105980.522963865,\n",
       " '2023-1-2': 10104386.133214608,\n",
       " '2023-1-3': 10101861.743461696,\n",
       " '2023-1-4': 10099474.688539166,\n",
       " '2023-1-5': 10094250.294608371,\n",
       " '2023-1-6': 10091845.161534736,\n",
       " '2023-1-7': 10088207.164555404,\n",
       " '2023-1-8': 10087183.138327386,\n",
       " '2023-1-9': 10085519.038225468,\n",
       " '2023-1-10': 10083238.983666737,\n",
       " '2023-1-11': 10079580.981181081,\n",
       " '2023-1-12': 10077176.314535962,\n",
       " '2023-1-13': 10075392.343873069,\n",
       " '2023-1-14': 10073499.40989842,\n",
       " '2023-1-15': 10071750.66308742,\n",
       " '2023-1-16': 10070439.191212907,\n",
       " '2023-1-17': 10069587.851300208,\n",
       " '2023-1-18': 10068818.159837112,\n",
       " '2023-1-19': 10068134.665568687,\n",
       " '2023-1-20': 10067531.266169824,\n",
       " '2023-1-21': 10067010.721805412,\n",
       " '2023-1-22': 10066554.646161,\n",
       " '2023-1-23': 10066160.656097643,\n",
       " '2023-1-24': 10065812.524484335,\n",
       " '2023-1-25': 10065507.10820697,\n",
       " '2023-1-26': 10065241.505939363,\n",
       " '2023-1-27': 10065016.249538697,\n",
       " '2023-1-28': 10064822.580447782,\n",
       " '2023-1-29': 10064655.027665362,\n",
       " '2023-1-30': 10064511.352940017,\n",
       " '2023-1-31': 10064388.668585006}"
      ]
     },
     "execution_count": 10,
     "metadata": {},
     "output_type": "execute_result"
    },
    {
     "data": {
      "image/png": "[encoded data removed]",
      "text/plain": [
       "<Figure size 432x288 with 1 Axes>"
      ]
     },
     "metadata": {
      "needs_background": "light"
     },
     "output_type": "display_data"
    }
   ],
   "source": [
    "model_new.predict_for_month()"
   ]
  },
  {
   "cell_type": "code",
   "execution_count": 11,
   "id": "33e80149",
   "metadata": {},
   "outputs": [
    {
     "data": {
      "text/plain": [
       "{'2023-6-1': 10063611.855070783,\n",
       " '2023-6-2': 10063611.855068749,\n",
       " '2023-6-3': 10063611.855066992,\n",
       " '2023-6-4': 10063611.855065476,\n",
       " '2023-6-5': 10063611.855064169,\n",
       " '2023-6-6': 10063611.855063038,\n",
       " '2023-6-7': 10063611.855062062,\n",
       " '2023-6-8': 10063611.85506122,\n",
       " '2023-6-9': 10063611.855060492,\n",
       " '2023-6-10': 10063611.855059864,\n",
       " '2023-6-11': 10063611.855059322,\n",
       " '2023-6-12': 10063611.855058853,\n",
       " '2023-6-13': 10063611.855058448,\n",
       " '2023-6-14': 10063611.8550581,\n",
       " '2023-6-15': 10063611.855057798,\n",
       " '2023-6-16': 10063611.855057538,\n",
       " '2023-6-17': 10063611.855057314,\n",
       " '2023-6-18': 10063611.855057118,\n",
       " '2023-6-19': 10063611.855056953,\n",
       " '2023-6-20': 10063611.855056807,\n",
       " '2023-6-21': 10063611.855056683,\n",
       " '2023-6-22': 10063611.855056575,\n",
       " '2023-6-23': 10063611.855056481,\n",
       " '2023-6-24': 10063611.855056401,\n",
       " '2023-6-25': 10063611.855056332,\n",
       " '2023-6-26': 10063611.855056271,\n",
       " '2023-6-27': 10063611.85505622,\n",
       " '2023-6-28': 10063611.855056176,\n",
       " '2023-6-29': 10063611.855056137,\n",
       " '2023-6-30': 10063611.855056103}"
      ]
     },
     "execution_count": 11,
     "metadata": {},
     "output_type": "execute_result"
    },
    {
     "data": {
      "image/png": "[encoded data removed]",
      "text/plain": [
       "<Figure size 432x288 with 1 Axes>"
      ]
     },
     "metadata": {
      "needs_background": "light"
     },
     "output_type": "display_data"
    }
   ],
   "source": [
    "model_new.predict_for_month(month=6, year=2023)"
   ]
  },
  {
   "cell_type": "code",
   "execution_count": 12,
   "id": "b56c341d",
   "metadata": {},
   "outputs": [
    {
     "data": {
      "text/plain": [
       "{'2023-6-1': 10063611.855070783,\n",
       " '2023-6-2': 10063611.855068749,\n",
       " '2023-6-3': 10063611.855066992,\n",
       " '2023-6-4': 10063611.855065476,\n",
       " '2023-6-5': 10063611.855064169,\n",
       " '2023-6-6': 10063611.855063038,\n",
       " '2023-6-7': 10063611.855062062,\n",
       " '2023-6-8': 10063611.85506122,\n",
       " '2023-6-9': 10063611.855060492,\n",
       " '2023-6-10': 10063611.855059864,\n",
       " '2023-6-11': 10063611.855059322,\n",
       " '2023-6-12': 10063611.855058853,\n",
       " '2023-6-13': 10063611.855058448,\n",
       " '2023-6-14': 10063611.8550581,\n",
       " '2023-6-15': 10063611.855057798,\n",
       " '2023-6-16': 10063611.855057538,\n",
       " '2023-6-17': 10063611.855057314,\n",
       " '2023-6-18': 10063611.855057118,\n",
       " '2023-6-19': 10063611.855056953,\n",
       " '2023-6-20': 10063611.855056807,\n",
       " '2023-6-21': 10063611.855056683,\n",
       " '2023-6-22': 10063611.855056575,\n",
       " '2023-6-23': 10063611.855056481,\n",
       " '2023-6-24': 10063611.855056401,\n",
       " '2023-6-25': 10063611.855056332,\n",
       " '2023-6-26': 10063611.855056271,\n",
       " '2023-6-27': 10063611.85505622,\n",
       " '2023-6-28': 10063611.855056176,\n",
       " '2023-6-29': 10063611.855056137,\n",
       " '2023-6-30': 10063611.855056103}"
      ]
     },
     "execution_count": 12,
     "metadata": {},
     "output_type": "execute_result"
    },
    {
     "data": {
      "image/png": "[encoded data removed]",
      "text/plain": [
       "<Figure size 432x288 with 1 Axes>"
      ]
     },
     "metadata": {
      "needs_background": "light"
     },
     "output_type": "display_data"
    }
   ],
   "source": [
    "model_new.predict_for_month(month=6, year=2023)"
   ]
  },
  {
   "cell_type": "code",
   "execution_count": 13,
   "id": "2a6402ca",
   "metadata": {},
   "outputs": [
    {
     "name": "stdout",
     "output_type": "stream",
     "text": [
      "\n",
      "Number of samples: 293\n",
      "Max receipt count: 10738865.0\n",
      "Min receipt count: 7562433.0\n",
      "\n",
      "Number of samples: 36\n",
      "Max receipt count: 8352635.0\n",
      "Min receipt count: 7360372.0\n",
      "\n",
      "Number of samples: 36\n",
      "Max receipt count: 8122546.0\n",
      "Min receipt count: 7095414.0\n"
     ]
    },
    {
     "data": {
      "text/plain": [
       "{'2025-6-1': 8785836.228324827,\n",
       " '2025-6-2': 8801588.84976203,\n",
       " '2025-6-3': 8793923.493462224,\n",
       " '2025-6-4': 8780766.633507855,\n",
       " '2025-6-5': 8757836.738669055,\n",
       " '2025-6-6': 8732320.432620622,\n",
       " '2025-6-7': 8701786.146781128,\n",
       " '2025-6-8': 8675391.882199315,\n",
       " '2025-6-9': 8647418.301691165,\n",
       " '2025-6-10': 8616523.127357878,\n",
       " '2025-6-11': 8587183.642380409,\n",
       " '2025-6-12': 8557977.89842892,\n",
       " '2025-6-13': 8527257.605150599,\n",
       " '2025-6-14': 8494419.255995763,\n",
       " '2025-6-15': 8465899.80266363,\n",
       " '2025-6-16': 8437587.595736636,\n",
       " '2025-6-17': 8414702.131350243,\n",
       " '2025-6-18': 8393503.58994214,\n",
       " '2025-6-19': 8374432.327987795,\n",
       " '2025-6-20': 8357543.095789773,\n",
       " '2025-6-21': 8342806.257118655,\n",
       " '2025-6-22': 8330067.28488928,\n",
       " '2025-6-23': 8319157.145952154,\n",
       " '2025-6-24': 8309841.793333519,\n",
       " '2025-6-25': 8301933.440097843,\n",
       " '2025-6-26': 8295259.494359996,\n",
       " '2025-6-27': 8289639.918332768,\n",
       " '2025-6-28': 8284922.953378879,\n",
       " '2025-6-29': 8280982.075680781,\n",
       " '2025-6-30': 8277708.7242606}"
      ]
     },
     "execution_count": 13,
     "metadata": {},
     "output_type": "execute_result"
    },
    {
     "data": {
      "image/png": "[encoded data removed]",
      "text/plain": [
       "<Figure size 432x288 with 1 Axes>"
      ]
     },
     "metadata": {
      "needs_background": "light"
     },
     "output_type": "display_data"
    }
   ],
   "source": [
    "model_new = LSTM(num_layers=2, hidden_layer_size=16)\n",
    "model_new.to(dtype=torch.double)\n",
    "model_new.load_state_dict(torch.load('weights_only_2_16_15.pth'))\n",
    "model_new.load_data(path_to_file)\n",
    "model_new.predict_for_month_with_prev([8544557, 8735065, 8326629, 8831147, 8857992, 9160117, 8672036, 8670423, 8869283, \n",
    "                                       8686309, 8654144, 8860853, 9198488, 8960260, 9122667], month=6, year=2025)"
   ]
  },
  {
   "cell_type": "code",
   "execution_count": null,
   "id": "24765b0c",
   "metadata": {},
   "outputs": [],
   "source": []
  }
 ],
 "metadata": {
  "kernelspec": {
   "display_name": "Python 3 (ipykernel)",
   "language": "python",
   "name": "python3"
  },
  "language_info": {
   "codemirror_mode": {
    "name": "ipython",
    "version": 3
   },
   "file_extension": ".py",
   "mimetype": "text/x-python",
   "name": "python",
   "nbconvert_exporter": "python",
   "pygments_lexer": "ipython3",
   "version": "3.10.4"
  }
 },
 "nbformat": 4,
 "nbformat_minor": 5
}
